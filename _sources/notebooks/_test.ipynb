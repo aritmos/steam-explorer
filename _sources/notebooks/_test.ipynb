{
 "cells": [
  {
   "cell_type": "markdown",
   "id": "9d1c8a36-74c3-410c-8d32-e94fedeea013",
   "metadata": {
    "editable": true,
    "execution": {
     "iopub.execute_input": "2023-12-15T15:53:23.345707Z",
     "iopub.status.busy": "2023-12-15T15:53:23.345363Z",
     "iopub.status.idle": "2023-12-15T15:53:23.351700Z",
     "shell.execute_reply": "2023-12-15T15:53:23.350506Z",
     "shell.execute_reply.started": "2023-12-15T15:53:23.345685Z"
    },
    "slideshow": {
     "slide_type": ""
    },
    "tags": []
   },
   "source": [
    "# Testing"
   ]
  },
  {
   "cell_type": "code",
   "execution_count": 1,
   "id": "0589f0c3-6b3d-4ebe-8dd3-772dcadb90c8",
   "metadata": {
    "editable": true,
    "execution": {
     "iopub.execute_input": "2023-12-15T20:59:38.301826Z",
     "iopub.status.busy": "2023-12-15T20:59:38.301568Z",
     "iopub.status.idle": "2023-12-15T20:59:40.458926Z",
     "shell.execute_reply": "2023-12-15T20:59:40.458103Z",
     "shell.execute_reply.started": "2023-12-15T20:59:38.301802Z"
    },
    "slideshow": {
     "slide_type": ""
    },
    "tags": [
     "remove-cell"
    ]
   },
   "outputs": [],
   "source": [
    "%run -i setup\n",
    "%load_ext sql\n",
    "%sql engine\n",
    "%config SqlMagic.autopandas = True"
   ]
  },
  {
   "cell_type": "code",
   "execution_count": 2,
   "id": "1596ad73-5fc0-48ce-940b-2ec47bcce064",
   "metadata": {
    "editable": true,
    "execution": {
     "iopub.execute_input": "2023-12-15T20:59:40.462075Z",
     "iopub.status.busy": "2023-12-15T20:59:40.461102Z",
     "iopub.status.idle": "2023-12-15T20:59:40.479623Z",
     "shell.execute_reply": "2023-12-15T20:59:40.478161Z",
     "shell.execute_reply.started": "2023-12-15T20:59:40.462045Z"
    },
    "slideshow": {
     "slide_type": ""
    },
    "tags": [
     "remove-cell"
    ]
   },
   "outputs": [
    {
     "data": {
      "application/papermill.record/text/plain": "3"
     },
     "metadata": {
      "scrapbook": {
       "mime_prefix": "application/papermill.record/",
       "name": "b"
      }
     },
     "output_type": "display_data"
    }
   ],
   "source": [
    "%glue b = 3"
   ]
  },
  {
   "cell_type": "markdown",
   "id": "c4bd01fe-79b2-4424-baf3-f042745445da",
   "metadata": {
    "editable": true,
    "slideshow": {
     "slide_type": ""
    },
    "tags": []
   },
   "source": [
    "Here is my value: {glue}`b`"
   ]
  },
  {
   "cell_type": "code",
   "execution_count": 3,
   "id": "fb2dc362-ac08-4456-ab44-32668251769b",
   "metadata": {
    "editable": true,
    "execution": {
     "iopub.execute_input": "2023-12-15T20:59:40.482017Z",
     "iopub.status.busy": "2023-12-15T20:59:40.481202Z",
     "iopub.status.idle": "2023-12-15T20:59:40.702003Z",
     "shell.execute_reply": "2023-12-15T20:59:40.700995Z",
     "shell.execute_reply.started": "2023-12-15T20:59:40.481987Z"
    },
    "slideshow": {
     "slide_type": ""
    },
    "tags": [
     "remove-cell"
    ]
   },
   "outputs": [
    {
     "data": {
      "application/papermill.record/text/plain": "[1, 2]"
     },
     "metadata": {
      "scrapbook": {
       "mime_prefix": "application/papermill.record/",
       "name": "l"
      }
     },
     "output_type": "display_data"
    },
    {
     "data": {
      "application/papermill.record/text/plain": "1"
     },
     "metadata": {
      "scrapbook": {
       "mime_prefix": "application/papermill.record/",
       "name": "l1"
      }
     },
     "output_type": "display_data"
    },
    {
     "data": {
      "application/papermill.record/text/plain": "2"
     },
     "metadata": {
      "scrapbook": {
       "mime_prefix": "application/papermill.record/",
       "name": "l2"
      }
     },
     "output_type": "display_data"
    }
   ],
   "source": [
    "%glue l = [1,2]\n",
    "%glue [l1, l2] = [1,2]"
   ]
  },
  {
   "cell_type": "markdown",
   "id": "511222ea-473e-4420-b63d-e447e2ecbc6a",
   "metadata": {
    "editable": true,
    "slideshow": {
     "slide_type": ""
    },
    "tags": []
   },
   "source": [
    "I can reference a list: {glue}`l`, and also destructured assignments: {glue}`l1`, {glue}`l2`"
   ]
  },
  {
   "cell_type": "code",
   "execution_count": 4,
   "id": "dcfaacb5-8a0c-4fc6-b3f8-be6c69101d6b",
   "metadata": {
    "editable": true,
    "execution": {
     "iopub.execute_input": "2023-12-15T20:59:40.703640Z",
     "iopub.status.busy": "2023-12-15T20:59:40.703048Z",
     "iopub.status.idle": "2023-12-15T20:59:40.881613Z",
     "shell.execute_reply": "2023-12-15T20:59:40.880496Z",
     "shell.execute_reply.started": "2023-12-15T20:59:40.703615Z"
    },
    "slideshow": {
     "slide_type": ""
    },
    "tags": [
     "remove-cell"
    ]
   },
   "outputs": [
    {
     "data": {
      "text/plain": [
       "2"
      ]
     },
     "execution_count": 4,
     "metadata": {},
     "output_type": "execute_result"
    }
   ],
   "source": [
    "l1 + 1"
   ]
  }
 ],
 "metadata": {
  "kernelspec": {
   "display_name": "Python 3 (ipykernel)",
   "language": "python",
   "name": "python3"
  },
  "language_info": {
   "codemirror_mode": {
    "name": "ipython",
    "version": 3
   },
   "file_extension": ".py",
   "mimetype": "text/x-python",
   "name": "python",
   "nbconvert_exporter": "python",
   "pygments_lexer": "ipython3",
   "version": "3.12.0"
  }
 },
 "nbformat": 4,
 "nbformat_minor": 5
}