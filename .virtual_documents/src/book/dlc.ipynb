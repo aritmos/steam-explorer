


# --- Setup ---

# Module Imports

import os
import sys
sys.path.append(os.path.abspath(os.path.join('..')))
from config import Config

import sqlalchemy

import matplotlib.pyplot as plt
import seaborn as sns
import pandas as pd

# DB Connection

config = Config()
engine = sqlalchemy.create_engine(config.db_uri)

get_ipython().run_line_magic("load_ext", " sql")
get_ipython().run_line_magic("sql", " engine")

# Plots

palette_blue_yellow = "blend:#7AB,#EDA"
tiffany_blue = "#7AB"

from matplotlib.colors import LinearSegmentedColormap
colors = ("#ffffff", tiffany_blue)
bool_tiffany_cmap = LinearSegmentedColormap.from_list('BinaryTiffanyBlue', colors, len(colors))








get_ipython().run_cell_magic("sql", " game_dlc_counts_result <<", """WITH dlc_count_tb AS (SELECT game_app_id, COUNT(*) AS dlc_count
                      FROM game_dlcs
                      GROUP BY game_app_id),
     games AS (SELECT id FROM apps WHERE kind = 'game')
SELECT g.id, COALESCE(d.dlc_count, 0) AS dlc_count
FROM games AS g
         LEFT JOIN dlc_count_tb AS d ON g.id = d.game_app_id;""")


game_dlc_counts_df = game_dlc_counts_result.DataFrame()
game_dlc_counts_df["dlc_count"].describe()


game_dlc_counts_df["has_dlc"] = game_dlc_counts_df["dlc_count"] > 0
has_dlc = game_dlc_counts_df["has_dlc"].value_counts()
fraction_has_dlc = has_dlc[True] / (has_dlc[True] + has_dlc[False])
percentage_has_dlc = f"{fraction_has_dlc * 100:.2f}%"








has_dlc_counts = game_dlc_counts_df.loc[game_dlc_counts_df["dlc_count"] != 0, ["id", "dlc_count"]]
plot = sns.histplot(data=has_dlc_counts, x="dlc_count", stat="count", binwidth=1, color=tiffany_blue)
plot.set(xlim=(0,30), xlabel="DLC Count", title="Probability distribution for games with DLC")
plt.show(plot)





# get tag data
app_tags_result = get_ipython().run_line_magic("sql", " SELECT * FROM app_tags")
app_tags_df = app_tags_result.DataFrame()

tags_result = get_ipython().run_line_magic("sql", " SELECT * FROM tags")
tags_df = tags_result.DataFrame()

# # pick whether each game is singleplayer or multiplayer using tag votes 
# game_dlc_counts["sp_or_mp"] = app_tags_df.loc[game_dlc_counts["id"]]



# Tagids:
# "Singleplayer": 4182
# "Multiplayer": 3859

app_play_mode = app_tags_df.loc[app_tags_df["tag_id"].isin([4182, 3859])] # keep only SP and MP tags
app_play_mode = app_play_mode.rename(columns={"app_id": "id", "tag_id": "play_mode"})
app_play_mode["play_mode"] = app_play_mode["play_mode"].map(lambda x: "Singleplayer" if x == 4182 else "Multiplayer") # map tag id to tag name
app_play_mode = app_play_mode.loc[app_play_mode.groupby("id")["votes"].idxmax()] # take tag with largest vote
app_play_mode = app_play_mode[["id", "play_mode"]]
app_play_mode.head()


# plot SP vs MP
df = pd.merge(game_dlc_counts_df, app_play_mode, on="id", how="left")
df.shape


# plot SP vs MP
df = pd.merge(game_dlc_counts_df, app_play_mode, on="id", how="left")

plot = sns.violinplot(x=df["dlc_count"], hue=df["play_mode"], split=True, gap=0.02, gridsize=2000, palette="blend:#7AB,#EDA")
plt.xlim(0,15)
plt.xlabel("DLC Count")
plt.xticks(ticks=[*range(15)])
plt.legend(title="Play Mode")
plt.title("DLC Distribution of Singleplayer vs Multiplayer Titles (2000 Gridsize)")
plt.show(plot)


sp = df.loc[df["play_mode"] == "Singleplayer"]
sp_len = len(sp)
sp_has_dlc_fraction = (sp["dlc_count"] > 0).sum() / len(sp)
sp_perc = f"{sp_has_dlc_fraction * 100:.2f}%"

mp = df.loc[df["play_mode"] == "Multiplayer"]
mp_len = len(mp)
mp_has_dlc_fraction = (mp["dlc_count"] > 0).sum() / len(mp)
mp_perc = f"{mp_has_dlc_fraction * 100:.2f}%"





# plot game type distributions

tag_name_to_id = [
    ("Shooter", 1774), 
    ("Adventure", 21), 
    ("RPG", 122), 
    ("Simulation", 599), 
    ("Strategy", 9), 
    ("Sports/Racing", 701),  # Sports 
    ("Sports/Racing",  699), # Racing
    ("Sexual Content", 12095)
]

app_main_tag = app_tags_df.loc[app_tags_df["tag_id"].isin((x[1] for x in tag_name_to_id))] # keep only chosen tags
app_main_tag = app_main_tag.loc[app_main_tag.groupby("app_id")["votes"].idxmax()] # take tag with largest vote
app_main_tag["main_tag"] = app_main_tag["tag_id"].map(lambda tag_id: [x[0] for x in tag_name_to_id if x[1] == tag_id][0])
app_main_tag = app_main_tag.rename(columns={"app_id": "id"})
app_main_tag = app_main_tag[["id", "main_tag"]]
app_main_tag.head()


# main tag distribution plot
app_main_tag["main_tag"].value_counts().plot(
    kind="pie",
    autopct='%1.1f%%',
    colors = sns.color_palette(palette_blue_yellow, len(tag_name_to_id)-1),
    # colors= sns.color_palette("hls", len(tag_name_to_id)-1),
    ylabel="",
    title="Grouped Games by Main Genre Distribution"
)


df = pd.merge(game_dlc_counts_df, app_main_tag, on="id", how="left")
fig, ax = plt.subplots(figsize=(10,6))
plot = sns.violinplot(
    x=df["dlc_count"], 
    hue=df["main_tag"],
    hue_order=["Adventure", "Shooter", "Strategy", "Simulation", "Sports/Racing","RPG",  "Sexual Content"],
    gridsize=1000,
    palette="blend:#7AB,#EDA"
    # color= tiffany_blue,
)
plt.xlim(0,8)
plt.ylabel("Genre")
plt.xlabel("DLC Count")
plt.legend(title="Game Genre")
plt.show(plot)


has_dlc_counts_extrema = has_dlc_counts[has_dlc_counts["dlc_count"] > 30]
dlc_extrema_count = len(has_dlc_counts_extrema)


sns.set_theme(style="ticks")
f, ax = plt.subplots(figsize=(20, 6))

sns.boxplot(
    has_dlc_counts_extrema, x="dlc_count", whis=[0, 100], width=.6, log_scale=True, color=tiffany_blue
)
sns.stripplot(has_dlc_counts_extrema, x="dlc_count", size=4, color=".3", log_scale=True)

ax.xaxis.grid(True)
ticks = [30, 50, 100, 500, 1000, 2000, 3000]
ax.set_xticks(ticks)
ax.set_xticklabels(ticks)
ax.set(ylabel="", xlabel="DLC Count", title="Distribution of DLC count extrema (30+ DLCs)")
sns.despine(trim=True, left=True)





top_dlc_counts = has_dlc_counts.loc[has_dlc_counts["dlc_count"] >= 100].sort_values(by="dlc_count", ascending=False)
top_dlc_counts_ids = top_dlc_counts["id"]
dlc_100p_count = top_dlc_counts_ids.shape[0]


get_ipython().run_cell_magic("sql", " result <<", """SELECT *
FROM app_tags""")


app_tags_df = result.DataFrame()
# filter to only have games with 100+ DLC
app_tags_df = app_tags_df[app_tags_df["app_id"].isin(top_dlc_counts_ids)]
# filter to only have top 5 tags for each game
app_tags_df = app_tags_df.sort_values(by="votes", ascending=False).groupby("app_id").head(5)
# remove votes column
app_tags_df = app_tags_df[["app_id", "tag_id"]]
app_tags_df["tag_id"].nunique()


app_result = get_ipython().run_line_magic("sql", " SELECT id, name FROM apps")
tag_result = get_ipython().run_line_magic("sql", " SELECT * FROM tags")

top_apps_df = app_result.DataFrame()
top_apps_df = top_apps_df.loc[top_apps_df["id"].isin(top_dlc_counts_ids)]

tags_df = tag_result.DataFrame()


# create a binary matrix for app_id <-> tag_id relation
binary_matrix = app_tags_df.groupby(['app_id', 'tag_id']).size().unstack(fill_value=0)
# sort (vertically) matrix by dlc count
binary_matrix = binary_matrix.loc[top_dlc_counts.sort_values("dlc_count")["id"]]
# sort (horizontally) matrix by tag count
binary_matrix = binary_matrix.loc[:, binary_matrix.sum().sort_values(ascending=False).index]

# use app and tag names instead of ids
binary_matrix = binary_matrix.rename(index=dict(top_apps_df[['id', 'name']].values))
binary_matrix.columns = tags_df.set_index('id').loc[binary_matrix.columns, 'name'].tolist()


plt.figure(figsize=(16,10))
sns.heatmap(binary_matrix, cmap=bool_tiffany_cmap, cbar=False, fmt="d")
plt.title("Tag presence for games with 100+ dlcs")
# Force all labels to be displayed on both axes
plt.xticks(ticks=range(len(binary_matrix.columns)), labels=binary_matrix.columns, rotation=60, ha="right")
plt.yticks(ticks=range(len(binary_matrix.index)), labels=binary_matrix.index, rotation=0)
plt.xlabel("Tags (Decresing presence count)")
plt.ylabel("Games (Increasing DLC count)")
plt.tight_layout()
plt.show()





#### Tag Analysis of Games with 100+ DLCs (Exlcuding "TigerQiuQiu" Developer)


get_ipython().run_cell_magic("sql", " tqq_game_ids <<", """SELECT app_id
FROM app_developers LEFT JOIN apps ON apps.id = app_developers.app_id
WHERE developer = 'TigerQiuQiu' and apps.kind = 'game';""")


top_dlc_counts = has_dlc_counts.loc[has_dlc_counts["dlc_count"] >= 100].sort_values(by="dlc_count", ascending=False)

# Filter out TQQ games
tqq_appids = tqq_game_ids.DataFrame()["app_id"]
top_dlc_counts = top_dlc_counts[~top_dlc_counts["id"].isin(tqq_appids)]


# Recreate data
top_dlc_counts_ids = top_dlc_counts["id"]

app_tags_df = result.DataFrame()
app_tags_df = app_tags_df[app_tags_df["app_id"].isin(top_dlc_counts_ids)]
app_tags_df = app_tags_df.sort_values(by="votes", ascending=False).groupby("app_id").head(5)
app_tags_df = app_tags_df[["app_id", "tag_id"]]

app_result = get_ipython().run_line_magic("sql", " SELECT id, name FROM apps")
tag_result = get_ipython().run_line_magic("sql", " SELECT * FROM tags")
top_apps_df = app_result.DataFrame()
top_apps_df = top_apps_df.loc[top_apps_df["id"].isin(top_dlc_counts_ids)]
tags_df = tag_result.DataFrame()

# Recreate plot
binary_matrix = app_tags_df.groupby(['app_id', 'tag_id']).size().unstack(fill_value=0)
binary_matrix = binary_matrix.loc[top_dlc_counts.sort_values("dlc_count")["id"]]
binary_matrix = binary_matrix.loc[:, binary_matrix.sum().sort_values(ascending=False).index]
binary_matrix = binary_matrix.rename(index=dict(top_apps_df[['id', 'name']].values))
binary_matrix.columns = tags_df.set_index('id').loc[binary_matrix.columns, 'name'].tolist()

plt.figure(figsize=(16,10))
sns.heatmap(binary_matrix, cmap=bool_tiffany_cmap, cbar=False, fmt="d")
plt.title("Tag presence for games with 100+ dlcs (Exluding 'TigerQiuQiu' Developer)")
plt.xticks(ticks=range(len(binary_matrix.columns)), labels=binary_matrix.columns, rotation=60, ha="right")
plt.yticks(ticks=range(len(binary_matrix.index)), labels=binary_matrix.index, rotation=0)
plt.xlabel("Tags (Decresing Presence Count)")
plt.ylabel("Games (Decreasing DLC Count)")
plt.tight_layout()
plt.show()





get_ipython().run_cell_magic("sql", " game_dlc_pricedata <<", """WITH game_dlc_stats AS (SELECT d.game_app_id       AS app_id,
                               COUNT(d.dlc_app_id) AS dlc_count,
                               ROUND(AVG(a.price)) AS avg_dlc_price
                        FROM game_dlcs AS d
                                 LEFT JOIN apps AS a ON a.id = d.dlc_app_id
                        GROUP BY d.game_app_id)
SELECT a.id as game_id, a.price AS game_price, d.dlc_count, d.avg_dlc_price
FROM game_dlc_stats AS d
         LEFT JOIN apps AS a ON d.app_id = a.id;
""")


dlc_count_pricing = game_dlc_pricedata.DataFrame()
# turn prices from cents into euros
dlc_count_pricing["game_price"] = dlc_count_pricing["game_price"] / 100
dlc_count_pricing["game_price"] = dlc_count_pricing["game_price"].astype(float)
dlc_count_pricing["avg_dlc_price"] = dlc_count_pricing["avg_dlc_price"] / 100
dlc_count_pricing["avg_dlc_price"] = dlc_count_pricing["avg_dlc_price"].astype(float)


# create price bands for plot

bands = ["Free", "  1¢ - 4.99€", "  5€ - 9.99€", "10€ - 14.99€", "15€ - 24.99€","25€ - 39.99€", "40€ +"]

def price_band(p: float) -> str:
    if p < 0:
        raise ValueError
    if p == 0:
        return bands[0]
    if p < 5.0:
        return bands[1]
    if p < 10.0:
        return bands[2]
    if p < 15.0:
        return bands[3]
    if p < 25.0:
        return bands[4]
    if p < 40.0:
        return bands[5]
    else:
        return bands[6]


dlc_count_pricing["game_price_band"] = dlc_count_pricing["game_price"].apply(price_band)
dlc_count_pricing.info()


df = dlc_count_pricing[dlc_count_pricing["dlc_count"] < 10]


fig, ax = plt.subplots(figsize=(12,8))

N = len(bands)
palette = sns.color_palette("magma", 7)

for i in range(N):
    band_df = df[df["game_price_band"] == bands[i]]
    sns.regplot(
        ax=ax,
        data=band_df,
        x="dlc_count",
        y="avg_dlc_price",
        color=palette[i],
        scatter=False,
        order=1,
        label=bands[i]
    )

plt.ylim((0,20))
plt.ylabel("Average DLC Price")
plt.xlabel("DLC Count")
plt.title("Linear fits for Average DLC Price per Number of DLCs, Grouped by Base Game Price")
plt.legend(title="Base Game Price")
plt.show()








get_ipython().run_cell_magic("sql", " game_dlc_releases_result <<", """SELECT game_app_id            AS game_id,
       game_apps.release_date AS game_release,
       game_apps.price        AS game_price,
       dlc_app_id             AS dlc_id,
       dlc_apps.release_date  AS dlc_release,
       dlc_apps.price         AS dlc_price
FROM game_dlcs
         LEFT JOIN apps AS game_apps ON game_apps.id = game_dlcs.game_app_id
         LEFT JOIN apps AS dlc_apps ON dlc_apps.id = game_dlcs.dlc_app_id
WHERE game_apps.release_date <= dlc_apps.release_date;""")


game_dlc_releases_df = game_dlc_releases_result.DataFrame()


game_dlc_releases_df.head()


game_dlc_releases_df["release_offset"] = game_dlc_releases_df["dlc_release"] - game_dlc_releases_df["game_release"]
game_dlc_releases_df["release_offset"] = game_dlc_releases_df["release_offset"].transform(lambda t: t.days)
game_dlc_releases_df.head()


df_sorted = game_dlc_releases_df.sort_values(by=["game_id", "release_offset"])
df_sorted["dlc_num"] = df_sorted.groupby("game_id").cumcount() + 1
df_sorted.info()


# df_sorted["dlc_group"] = df_sorted["dlc_num"].transform(lambda n: str(n) if n < 6 else "6+")
df_sorted = df_sorted.loc[df_sorted["dlc_num"] <= 5] # only include <=5 DLCs per game
fig, ax = plt.subplots(figsize=(12,8))
sns.set_theme(style="whitegrid")
plot = sns.violinplot(data=df_sorted, x="release_offset", hue="dlc_num", palette="blend:#7AB,#EDA")
plt.xlim((0,365 * 2))
plt.xlabel("Days Since Game Release")
plt.legend(title="DLC Number")
plt.show(plot)
